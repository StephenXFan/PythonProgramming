{
  "nbformat": 4,
  "nbformat_minor": 0,
  "metadata": {
    "colab": {
      "provenance": []
    },
    "kernelspec": {
      "name": "python3",
      "display_name": "Python 3"
    },
    "language_info": {
      "name": "python"
    }
  },
  "cells": [
    {
      "cell_type": "markdown",
      "source": [
        "# SIT319/SIT744 Assignment 1"
      ],
      "metadata": {
        "id": "TMhkl_3pb8cj"
      }
    },
    {
      "cell_type": "markdown",
      "metadata": {
        "id": "v81NrNYlAzIm"
      },
      "source": [
        "\n",
        "<div class=\"alert-info\">\n",
        "    <p>Due: <strong>Week 6 Monday, 8:00 pm  (AEST) </strong> </p>\n",
        "\n",
        "\n",
        "This is an <strong>individual</strong> assignment. It contributes <strong>25%</strong> to your final mark. Read the assignment instruction carefully.\n",
        "\n",
        "<h2> What to submit </h2>\n",
        "\n",
        "<p>\n",
        "This assignment is to be completed individually and submitted to CloudDeakin. <strong>By the due date, you are required to submit the following files to the corresponding Assignment (Dropbox) in CloudDeakin</strong>:\n",
        "\n",
        "<ol>\n",
        "<li>\t<strong>[YourID]_[UnitCode]_assignment1_solution.ipynb</strong>:  This is your Python notebook solution source file. </li>\n",
        "<li>\t<strong>[YourID]_[UnitCode]_assingment1_output.html</strong>: This is the output of your Python notebook solution <emph>exported</emph> in HTML format. (You may use <a href=\"https://github.com/jupyter/nbconvert\">nbconvert</a>.) </li>\n",
        "<li>  (HD Task only) A short (less than 5 minutes) video explaining your study design and main conclusions.  </li>\n",
        "<li>\tExtra files required to complete your assignment, if any (e.g., images used in your answers).</li>\n",
        "</ol>\n",
        "</p>\n",
        "\n",
        "<p>\n",
        "For example, if your student ID is: 123456, and you are a SIT744 student, you will then need to submit the following files:\n",
        "<ul>\n",
        "<li> 123456_SIT744_assignment1_solution.ipynb </li>\n",
        "<li> 123456_SIT744_assignment1_output.html</li>\n",
        "</ul>\n",
        "</p>\n",
        "\n",
        "<strong>Please keep your answers short and to the point. Clean up your code outputs to reduce unnecessary information (e.g., excessively long training logs).</strong>\n",
        "\n",
        "</div>"
      ]
    },
    {
      "cell_type": "markdown",
      "metadata": {
        "id": "JOr2bP8kAzKE"
      },
      "source": [
        "## Assignment objective\n",
        "\n",
        "This assignment is for you to demonstrate the knowledge in deep learning that you have acquired from the lectures and practical lab materials. Most P-level tasks in this assignment are straightforward applications of the practical materials in weeks 1-5. Going through these materials before attempting this assignment is highly recommended.\n",
        "\n",
        "\n",
        "This assignment consists of four groups of tasks with progressive level of challenges.\n",
        "\n",
        "- Group 1 (P Tasks)\n",
        "- Group 2 (C Tasks)\n",
        "- Group 3 (D Tasks)\n",
        "- Group 4 (HD Tasks)\n",
        "\n",
        "## Marking criteria\n",
        "Indicative weights of various tasks are provided below, but your submission will be marked by the following criteria, adjusting for the overall quality.\n",
        "\n",
        "### P-level expectation\n",
        "- Showing good effort through completed tasks.\n",
        "- Applying deep learning theory to design suitable deep learning solutions for the tasks.\n",
        "\n",
        "### C-level expectation\n",
        "- Showing attention to details through a good quality assignment report.\n",
        "\n",
        "### D-level expectation\n",
        "- Demonstrating creativity and resourcefulness in providing unique individual solutions.\n",
        "- Critically evaluating and reflecting on the pros and cons of various design decisions.\n",
        "\n",
        "### HD-level expectation\n",
        "- Extending classroom learning to research and tackle previously unexplored theoretical questions or novel applications\n",
        "\n",
        "**(Warning: Highly similar solutions will be investigated for collusion.)**\n"
      ]
    },
    {
      "cell_type": "markdown",
      "metadata": {
        "id": "lnE7ZFS_AzLg"
      },
      "source": [
        "## **Group 1 (P Tasks) Construct a forward neural network**\n",
        "\n",
        "*(weight ~60%)*\n",
        "\n",
        "With this group of tasks, you are going to build a neural network for the image classification task. You will train the model on the [diabetes prediction dataset](https://www.kaggle.com/datasets/iammustafatz/diabetes-prediction-dataset)."
      ]
    },
    {
      "cell_type": "markdown",
      "metadata": {
        "id": "DDE-8C5IVGSd"
      },
      "source": [
        "### Task 1.1 Understanding the data\n",
        "\n",
        "*(weight ~20%)*\n",
        "\n",
        "1. Describe the target classes for the prediction task. Display 10 training examples from each target class. Do you see any patterns?\n",
        "2. Describe the data types of each feature. What preprocessing steps are required? Why?\n",
        "2. Prepare the data for learning a neural network, including creating training, validation, and test datasets. How many training examples and how many test examples are you using?\n"
      ]
    },
    {
      "cell_type": "markdown",
      "metadata": {
        "id": "ChlhkwhkAzLi"
      },
      "source": [
        "### Task 1.2 Setting up a model for training\n",
        "\n",
        "(weight ~ 20%)"
      ]
    },
    {
      "cell_type": "markdown",
      "metadata": {
        "id": "yuxhQM6jAzLl"
      },
      "source": [
        "Construct a deep feedforward neural network. In other words, you can use **only fully connected (dense) layers**. You need to decide and report the following configurations:\n",
        "\n",
        "- Output layer:\n",
        "    - How many output nodes?\n",
        "    - Which activation function?\n",
        "- Hidden layers:\n",
        "    - How many hidden layers?\n",
        "    - How many nodes in each layer?\n",
        "    - Which activation function for each layer?\n",
        "- Input layer\n",
        "    - What is the input size?\n",
        "    - Do you need to reshape the input? Why?\n",
        "\n",
        "Justify your model design decisions.\n",
        "\n",
        "Plot the model structure using `keras.utils.plot_model` or similar tools.\n",
        "\n"
      ]
    },
    {
      "cell_type": "markdown",
      "metadata": {
        "id": "MZ2BVK5tAzMM"
      },
      "source": [
        "### Task 1.3 Fitting the model\n",
        "\n",
        "(weight ~ 20%)\n",
        "\n",
        "\n",
        "Decide and report the following settings:\n",
        "\n",
        "- The loss function\n",
        "- The metrics for model evaluation (which may be different from the loss function)\n",
        "\n",
        "Explain their roles in model fitting.\n",
        "\n",
        "Decide the optimiser that you will use. Also report the following settings:\n",
        "\n",
        "1. The training batch size\n",
        "2. The number of training epochs\n",
        "3. The learning rate. If you used momentum or a learning rate schedule, please report the configuration as well.\n",
        "\n",
        "Justify your decisions.\n",
        "\n",
        "Now fit the model. Show how the training loss and the evaluation metric change. How did you decide when to stop training?\n",
        "\n",
        "\n"
      ]
    },
    {
      "cell_type": "markdown",
      "metadata": {
        "id": "4wMtOpQwUSjk"
      },
      "source": [
        "## **Group 2 (C Tasks) Improve the model**\n",
        "\n",
        "(weight ~ 10%)\n",
        "\n",
        "### Task 2.1 Check the training using TensorBoard\n",
        "\n",
        "Use TensorBoard to visualise the training process. Show screenshots of your TensorBoard output.\n",
        "\n",
        "Do you see overfitting or underfitting? Why?\n",
        "If you see overfitting, at which epoch did it happen?\n",
        "\n",
        "\n",
        "### Task 2.2 Apply regularisation\n",
        "\n",
        "Improve the training process by applying regularisation. Below are some options:\n",
        "\n",
        "1.   Dropout\n",
        "2.   Batch normalisation\n",
        "\n",
        "Compare the effect of different regularisation techniques on model training. You may also try other techniques for improving training such as learning rate scheduling (see https://www.tensorflow.org/api_docs/python/tf/keras/optimizers/schedules/LearningRateSchedule).\n",
        "\n"
      ]
    },
    {
      "cell_type": "markdown",
      "metadata": {
        "id": "9C2VXCM-4Nw9"
      },
      "source": [
        "## **Group 3 (D Tasks) Analyse the learned representations**\n",
        "\n",
        "(weight ~ 10%)\n",
        "\n",
        "In this task, you will explore the visualization of embeddings at different layers of your trained neural network and analyse how they evolve using **Uniform Manifold Approximation and Projection** ([UMAP](https://github.com/lmcinnes/umap)). Below are detailed steps you can follow.\n",
        "\n",
        "1. Select a subset of your training data containing both classes.\n",
        "2. Extract the embeddings from each layer of the neural network model for the dataset.\n",
        "3. Apply UMAP to visualise the embeddings from each layer in a 2-dimensional space, highlighting different classes with distinct colours or markers. Include appropriate labels and legends in your plots.\n",
        "4. Analyse and discuss the evolution of the embeddings across layers. Answer the following questions in your analysis:\n",
        "\n",
        "  - Do the embeddings show clear separation between classes at any specific layer?\n",
        "  - How do the separation and clustering of classes change as you move across layers?\n",
        "  - Are there any notable changes in the distribution or structure of the embeddings?\n",
        "  - Are there any layers where the embeddings become less discriminative or more entangled?\n",
        "\n",
        "5. Summarize your findings and provide insights into the behaviour of the neural network's representations at different layers. Discuss the implications of the observed changes in the embeddings for the network's ability to capture class-specific information and make predictions.\n",
        "\n"
      ]
    },
    {
      "cell_type": "markdown",
      "metadata": {
        "id": "4EgXZCBNAzMs"
      },
      "source": [
        "## **Group 4 (HD Tasks) Investigating Neural Collapse in Deep Learning**\n",
        "\n",
        "*(weight ~20%)*\n",
        "\n",
        "In this research task, you will explore the phenomenon of \"neural collapse\" in deep learning models.\n",
        "\n",
        "### Task 4.1 Research and understand the concept of [neural collapse in deep learning](https://www.pnas.org/doi/10.1073/pnas.2015509117).\n",
        "\n",
        "1. What problem does the paper address? How is it related to what you have learnt in the unit so far?\n",
        "2. How do the authors validate their proposed method or hypothesis?\n",
        "\n",
        "### Task 4.2 Reproduce the NC results\n",
        "\n",
        "1. Reproduce experiments described in the [neural collapse paper](https://www.pnas.org/doi/10.1073/pnas.2015509117). Compare the results you obtained with the ones in the paper. Do you identify any discrepancies?\n",
        "\n",
        "2. What connections do you discover between the paper and what you have learnt in the unit.\n",
        "\n",
        "**In addition to short answers to the above questions, submit a short (less than 5 minutes) video presentation for your analysis and main conclusions. **\n"
      ]
    }
  ]
}
