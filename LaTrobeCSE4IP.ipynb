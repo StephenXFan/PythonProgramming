{
  "cells": [
    {
      "cell_type": "markdown",
      "metadata": {
        "id": "hHDqfwMDtU0e"
      },
      "source": [
        "### Task 1 - _(20 marks)_\n",
        "For this task, you are to write code that manages the scores for a computer game and prints the leaderboard."
      ]
    },
    {
      "cell_type": "markdown",
      "metadata": {
        "id": "REsnAwLBORll"
      },
      "source": [
        "#### Instructions\n",
        "The scoreboard program found below is currently missing two important pieces of functionality - it doesn't record scores, nor is it able to print the leaderboard.\n",
        "\n",
        "Provided for you is the `ScoreEntry` class which contains the player name and score of each entry on the scoreboard, and the `Scoreboard` class which is responsible for maintaining the list of score entries. Your task is to implement this missing functionality by adding two methods to the `Scoreboard` class as described below.\n",
        "\n",
        "###### `add_score`\n",
        "This method is to take a player's name and their score as arguments, create a new `ScoreEntry` object, and then append it to the appropriate list of scores.\n",
        "\n",
        "###### `print_leaderboard`\n",
        "This method is to take no arguments and print the name and score of the top three players in descending order of score.\n",
        "\n",
        "_Hint: If you find your solution printing the **bottom** three scores, you may need to look at [the documentation](https://docs.python.org/3/library/stdtypes.html#list.sort), and in particular the \"reverse\" named argument._"
      ]
    },
    {
      "cell_type": "markdown",
      "metadata": {
        "id": "H8Zhadh1UX0Z"
      },
      "source": [
        "#### Requirements\n",
        "To achieve full marks for this task, you must follow the instructions above when writing your solution. Additionally, your solution must adhere to the following requirements:\n",
        " - You **must** use the `sort` method (hint: the provided function `get_score` will come in handy).\n",
        " - You **must** use list slicing as part of your solution. You **must not** use\n",
        "   list indexing to retrieve individual list items.\n",
        " - You **must not** use `break`, `continue` or `return` statements in `print_leaderboard`."
      ]
    },
    {
      "cell_type": "markdown",
      "metadata": {
        "id": "x21GEC8FOU4w"
      },
      "source": [
        "#### Example Runs\n",
        "##### Run 1\n",
        "```\n",
        "Bob: 12103\n",
        "Charlie: 8762\n",
        "Alice: 7821\n",
        "```\n",
        "\n",
        "Your code should execute as closely as possible to the example runs above. To check for correctness, ensure that your program gives the same outputs as in the examples, as well as trying it with other inputs."
      ]
    },
    {
      "cell_type": "markdown",
      "metadata": {
        "id": "5F6sI91qcSWt"
      },
      "source": [
        "#### Your Solution"
      ]
    },
    {
      "cell_type": "code",
      "execution_count": null,
      "metadata": {
        "id": "It712ZOqiXL8",
        "vscode": {
          "languageId": "python"
        },
        "colab": {
          "base_uri": "https://localhost:8080/"
        },
        "outputId": "f2324fae-aeff-40ec-e138-eade2765f05f"
      },
      "outputs": [
        {
          "output_type": "stream",
          "name": "stdout",
          "text": [
            "Bob: 12103\n",
            "Charlie: 8762\n",
            "Alice: 7821\n"
          ]
        }
      ],
      "source": [
        "class ScoreEntry:\n",
        "    def __init__(self, name, score):\n",
        "        self.name = name\n",
        "        self.score = score\n",
        "\n",
        "def get_score(score_entry):\n",
        "    return score_entry.score\n",
        "\n",
        "class Scoreboard:\n",
        "    def __init__(self):\n",
        "        self.scores = []\n",
        "\n",
        "    # Write your methods here\n",
        "    def add_score(self, name, score):\n",
        "        self.scores.append(ScoreEntry(name, score))\n",
        "\n",
        "    def print_leaderboard(self):\n",
        "        self.scores.sort(key=get_score, reverse=True)\n",
        "        top3 = self.scores[:3]\n",
        "        for item in top3:\n",
        "            print(f'{item.name}: {item.score}')\n",
        "\n",
        "scoreboard = Scoreboard()\n",
        "\n",
        "scoreboard.add_score('Alice', 7821)\n",
        "scoreboard.add_score('Bob', 12103)\n",
        "scoreboard.add_score('Charlie', 8762)\n",
        "scoreboard.add_score('Denise', 6573)\n",
        "\n",
        "scoreboard.print_leaderboard()"
      ]
    },
    {
      "cell_type": "markdown",
      "metadata": {
        "id": "xGzK6ZQ6FTwi"
      },
      "source": [
        "### Task 2 - _(20 marks)_\n",
        "For this task, you are to write a simple program to track time spent on miscellaneous chores."
      ]
    },
    {
      "cell_type": "markdown",
      "metadata": {
        "id": "m_LAsEt1FTwi"
      },
      "source": [
        "#### Instructions\n",
        "Your program should be capable of keeping a sum of the total hours spent on any number of chores. You are to add the missing methods to the `ChoreTracker` class as described below.\n",
        "\n",
        "###### `add_hours`\n",
        "This method takes the name of a chore and the number of hours spent on this chore, and adds it to the total hours for that chore. You will need to consider two cases when this method is called:\n",
        " - No hours have been logged for the chore yet.\n",
        " - The chore already has some hours logged .\n",
        "\n",
        "###### `print_summary`\n",
        "This method takes no arguments, and prints the name and total hours spent on each chore, as well as the total number of hours spent on **all** chores. Hours are to be displayed with two decimal places of precision.\n",
        "\n",
        "_Hint: If you don't remember how to iterate over the items in a dictionary, have a look at the relevant workbook._"
      ]
    },
    {
      "cell_type": "markdown",
      "metadata": {
        "id": "MT8xCRfWUhwd"
      },
      "source": [
        "#### Requirements\n",
        "To achieve full marks for this task, you must follow the instructions above when writing your solution. Additionally, your solution must adhere to the following requirements:\n",
        " - You **must** use f-strings to format the outputs (do not use string concatenation).\n",
        " - You **must** ensure that the hours are printed with two decimal places of precision.\n",
        " - The order in which the projects are printed is **not** important.\n",
        " - You **must** use a single loop to both print individual chore hours and aggregate the total number of hours spent on all chores."
      ]
    },
    {
      "cell_type": "markdown",
      "metadata": {
        "id": "raf4_Y7zFTwi"
      },
      "source": [
        "#### Example Runs\n",
        "##### Run 1\n",
        "```\n",
        "sweeping: 0.75 hours\n",
        "laundry: 1.50 hours\n",
        "working: 11.50 hours\n",
        "mopping: 0.50 hours\n",
        "TOTAL: 14.25 hours\n",
        "```\n",
        "\n",
        "Your code should execute as closely as possible to the example runs above. To check for correctness, ensure that your program gives the same outputs as in the examples, as well as trying it with other inputs."
      ]
    },
    {
      "cell_type": "markdown",
      "metadata": {
        "id": "4M7dnQJMFTwj"
      },
      "source": [
        "#### Your Solution"
      ]
    },
    {
      "cell_type": "code",
      "execution_count": null,
      "metadata": {
        "id": "z_I8bHdHFTwj",
        "vscode": {
          "languageId": "python"
        },
        "colab": {
          "base_uri": "https://localhost:8080/"
        },
        "outputId": "90fee7b8-0af4-4c97-fb7a-29ee962284b1"
      },
      "outputs": [
        {
          "output_type": "stream",
          "name": "stdout",
          "text": [
            "sweeping: 0.75 hours\n",
            "laundry: 1.50 hours\n",
            "working: 11.50 hours\n",
            "mopping: 0.50 hours\n",
            "TOTAL: 14.25 hours\n"
          ]
        }
      ],
      "source": [
        "class ChoreTracker:\n",
        "    def __init__(self):\n",
        "        self.chores = {}\n",
        "\n",
        "    # Write your methods here\n",
        "    def add_hours(self, chore, hours):\n",
        "        if chore not in self.chores:\n",
        "            self.chores[chore] = hours\n",
        "        else:\n",
        "            self.chores[chore] = self.chores[chore] + hours\n",
        "\n",
        "    def print_summary(self):\n",
        "        for chore, hours in self.chores.items():\n",
        "            print(f'{chore}: {hours:.2f} hours')\n",
        "        total_hours = 0\n",
        "        for chore, hours in self.chores.items():\n",
        "            total_hours = total_hours + hours\n",
        "        print(f'TOTAL: {total_hours:.2f} hours')\n",
        "\n",
        "tracker = ChoreTracker()\n",
        "\n",
        "tracker.add_hours('sweeping', 0.75)\n",
        "tracker.add_hours('laundry', 0.5)\n",
        "tracker.add_hours('working', 6)\n",
        "tracker.add_hours('mopping', 0.5)\n",
        "tracker.add_hours('laundry', 1)\n",
        "tracker.add_hours('working', 5.5)\n",
        "\n",
        "tracker.print_summary()"
      ]
    },
    {
      "cell_type": "markdown",
      "metadata": {
        "id": "hAiTuoBmFT8k"
      },
      "source": [
        "### Task 3 - _(30 marks)_\n",
        "For this task, you are to write code that handles the transfer of funds from one bank account to another. This task is divided into three parts to help with solving it.\n",
        "\n",
        "After you have completed and tested each part, you are to copy and paste your code into the next part's code cell and continue. Thus, you are required to complete the parts in order. Please **do not** complete all parts in the Part A solution code cell."
      ]
    },
    {
      "cell_type": "markdown",
      "metadata": {
        "id": "yLl87b9GSgNw"
      },
      "source": [
        "#### Task 3, Part A _(10 marks)_"
      ]
    },
    {
      "cell_type": "markdown",
      "metadata": {
        "id": "h08dNZc3FT8l"
      },
      "source": [
        "##### Instructions\n",
        "As this task relates to tranferring funds between bank accounts, a `BankAccount` class has been provided, which support depositing and withdrawing funds. A simple interactive loop has already been implemented, which allows the user to repeatedly transfer funds from one account to another.\n",
        "\n",
        "You are to write a function called `transfer_funds` with three parameters: the amount to transfer, the account the funds are coming from, and the account the funds are going to. \\\n",
        "It should use the appropriate instance methods on each of the accounts to update their balances as required.\n",
        "\n",
        "Test your code thoroughly to ensure its correctness, as it will be used as the basis for Part B of this task. When you are happy with your solution, copy and paste the code **in its entirety** where indicated in Part B."
      ]
    },
    {
      "cell_type": "markdown",
      "metadata": {
        "id": "hBPl-MaSUiEn"
      },
      "source": [
        "##### Requirements\n",
        "To achieve full marks for this task, you must follow the instructions above when writing your solution. Additionally, your solution must adhere to the following requirements:\n",
        " - The `transfer_funds` function **must not** directly access the `balance` instance variable of either bank account."
      ]
    },
    {
      "cell_type": "markdown",
      "metadata": {
        "id": "PsnR1LoKFT8l"
      },
      "source": [
        "##### Example Runs\n",
        "###### Run 1\n",
        "```\n",
        "== Account balances ==\n",
        "  Alice: $100.00\n",
        "  Bob: $100.00\n",
        "Enter transfer amount ($): 30\n",
        "== Account balances ==\n",
        "  Alice: $70.00\n",
        "  Bob: $130.00\n",
        "Perform another transfer? (y/n): y\n",
        "Enter transfer amount ($): 15.55\n",
        "== Account balances ==\n",
        "  Alice: $54.45\n",
        "  Bob: $145.55\n",
        "Perform another transfer? (y/n): n\n",
        "```\n",
        "\n",
        "Your code should execute as closely as possible to the example runs above. To check for correctness, ensure that your program gives the same outputs as in the examples, as well as trying it with other inputs."
      ]
    },
    {
      "cell_type": "markdown",
      "metadata": {
        "id": "3pi8o6CVTOQw"
      },
      "source": [
        "##### Your Solution"
      ]
    },
    {
      "cell_type": "code",
      "execution_count": null,
      "metadata": {
        "id": "ewDL8zy3TZat",
        "vscode": {
          "languageId": "python"
        },
        "colab": {
          "base_uri": "https://localhost:8080/"
        },
        "outputId": "fc82d561-54d2-403e-d615-fa3fdd40a6e4"
      },
      "outputs": [
        {
          "name": "stdout",
          "output_type": "stream",
          "text": [
            "== Account balances ==\n",
            "  Alice: $100.00\n",
            "  Bob: $100.00\n",
            "Enter transfer amount ($): 30\n",
            "== Account balances ==\n",
            "  Alice: $70.00\n",
            "  Bob: $130.00\n",
            "Perform another transfer? (y/n): y\n",
            "Enter transfer amount ($): 15.55\n",
            "== Account balances ==\n",
            "  Alice: $54.45\n",
            "  Bob: $145.55\n",
            "Perform another transfer? (y/n): n\n"
          ]
        }
      ],
      "source": [
        "class BankAccount:\n",
        "    def __init__(self, name, initial_balance):\n",
        "        self.name = name\n",
        "        self.balance = initial_balance\n",
        "\n",
        "    def deposit(self, amount):\n",
        "        self.balance = self.balance + amount\n",
        "\n",
        "    def withdraw(self, amount):\n",
        "        # Part B: Raise an exception as appropriate\n",
        "        self.balance = self.balance - amount\n",
        "\n",
        "def print_balances(account_a, account_b):\n",
        "    print('== Account balances ==')\n",
        "    print(f'  {account_a.name}: ${account_a.balance:.2f}')\n",
        "    print(f'  {account_b.name}: ${account_b.balance:.2f}')\n",
        "\n",
        "# Part A. Write your transfer_funds function here\n",
        "def transfer_funds(amount, from_account, to_account):\n",
        "    from_account.withdraw(amount)\n",
        "    to_account.deposit(amount)\n",
        "\n",
        "account_a = BankAccount('Alice', 100)\n",
        "account_b = BankAccount('Bob', 100)\n",
        "print_balances(account_a, account_b)\n",
        "\n",
        "another_transfer = 'y'\n",
        "while another_transfer == 'y':\n",
        "    amount = float(input('Enter transfer amount ($): '))\n",
        "\n",
        "    # Part C. Print an appropriate message if an exception is encountered\n",
        "    transfer_funds(amount, account_a, account_b)\n",
        "\n",
        "    print_balances(account_a, account_b)\n",
        "    another_transfer = input('Perform another transfer? (y/n): ')"
      ]
    },
    {
      "cell_type": "markdown",
      "metadata": {
        "id": "VZZxw9q5S333"
      },
      "source": [
        "#### Task 3, Part B _(10 marks)_"
      ]
    },
    {
      "cell_type": "markdown",
      "metadata": {
        "id": "EzcN4uP9S336"
      },
      "source": [
        "##### Instructions\n",
        "Before commencing this part of the task, ensure that you have completed Part A and copied your solution into the code cell below where indicated.\n",
        "\n",
        "If you tested your solution thoroughly in the previous exercise, you probably came across a logic error in the program - there's nothing to stop us from transferring funds from an account, even if the account balance becomes negative! You are to fix this problem by raising an exception and preventing the account balance from becoming negative. You should do this by raising a `ValueError` in the appropriate place in the `BankAccount` class.\n",
        "\n",
        "It would be good to also check that the amount being deducted is a positive value, but that's beyond the scope of this task (and hence your solution does not need to do this).\n",
        "\n",
        "_Hint: The order in which the withdrawal and deposit occur in `transfer_funds` matters - the wrong order will result in someone receiving free money!_"
      ]
    },
    {
      "cell_type": "markdown",
      "metadata": {
        "id": "t8T3pXVnUij1"
      },
      "source": [
        "##### Requirements\n",
        "To achieve full marks for this task, you must follow the instructions above when writing your solution. Additionally, your solution must adhere to the following requirements:\n",
        " - You **must** raise an exception from within the `BankAccount` class if a withdrawal would cause an account balance to become negative.\n",
        " - You **must not** modify the balance of _any_ accounts involved in a transaction before the exception is raised."
      ]
    },
    {
      "cell_type": "markdown",
      "metadata": {
        "id": "nBxrtKfGS337"
      },
      "source": [
        "##### Example Runs\n",
        "###### Run 1\n",
        "```\n",
        "== Account balances ==\n",
        "  Alice: $100.00\n",
        "  Bob: $100.00\n",
        "Enter transfer amount ($): 35.65\n",
        "== Account balances ==\n",
        "  Alice: $64.35\n",
        "  Bob: $135.65\n",
        "Perform another transfer? (y/n): y\n",
        "Enter transfer amount ($): 22.90\n",
        "== Account balances ==\n",
        "  Alice: $41.45\n",
        "  Bob: $158.55\n",
        "Perform another transfer? (y/n): y\n",
        "Enter transfer amount ($): 50\n",
        "---------------------------------------------------------------------------\n",
        "ValueError                              Traceback (most recent call last)\n",
        "... stacktrace omitted ...\n",
        "ValueError: Balance would be negative after withdrawal\n",
        "```\n",
        "\n",
        "Your code should execute as closely as possible to the example runs above. To check for correctness, ensure that your program gives the same outputs as in the examples, as well as trying it with other inputs."
      ]
    },
    {
      "cell_type": "markdown",
      "metadata": {
        "id": "PmqD9o5qTN7g"
      },
      "source": [
        "##### Your Solution"
      ]
    },
    {
      "cell_type": "code",
      "execution_count": null,
      "metadata": {
        "id": "njhbs17rTN7s",
        "vscode": {
          "languageId": "python"
        },
        "colab": {
          "base_uri": "https://localhost:8080/"
        },
        "outputId": "7b2a101d-7af7-4d7a-d3cb-d53190729588"
      },
      "outputs": [
        {
          "name": "stdout",
          "output_type": "stream",
          "text": [
            "== Account balances ==\n",
            "  Alice: $100.00\n",
            "  Bob: $100.00\n",
            "Enter transfer amount ($): 1\n",
            "== Account balances ==\n",
            "  Alice: $99.00\n",
            "  Bob: $101.00\n",
            "Perform another transfer? (y/n): n\n"
          ]
        }
      ],
      "source": [
        "# Paste your solution to Task 3 Part A here, then modify it as required\n",
        "class BankAccount:\n",
        "    def __init__(self, name, initial_balance):\n",
        "        self.name = name\n",
        "        self.balance = initial_balance\n",
        "\n",
        "    def deposit(self, amount):\n",
        "        self.balance = self.balance + amount\n",
        "\n",
        "    def withdraw(self, amount):\n",
        "        # Part B: Raise an exception as appropriate\n",
        "        if self.balance < amount:\n",
        "            raise ValueError('Balance would be negative after withdrawal')\n",
        "        self.balance = self.balance - amount\n",
        "\n",
        "def print_balances(account_a, account_b):\n",
        "    print('== Account balances ==')\n",
        "    print(f'  {account_a.name}: ${account_a.balance:.2f}')\n",
        "    print(f'  {account_b.name}: ${account_b.balance:.2f}')\n",
        "\n",
        "# Part A. Write your transfer_funds function here\n",
        "def transfer_funds(amount, from_account, to_account):\n",
        "    from_account.withdraw(amount)\n",
        "    to_account.deposit(amount)\n",
        "\n",
        "account_a = BankAccount('Alice', 100)\n",
        "account_b = BankAccount('Bob', 100)\n",
        "print_balances(account_a, account_b)\n",
        "\n",
        "another_transfer = 'y'\n",
        "while another_transfer == 'y':\n",
        "    amount = float(input('Enter transfer amount ($): '))\n",
        "\n",
        "    # Part C. Print an appropriate message if an exception is encountered\n",
        "    transfer_funds(amount, account_a, account_b)\n",
        "\n",
        "    print_balances(account_a, account_b)\n",
        "    another_transfer = input('Perform another transfer? (y/n): ')"
      ]
    },
    {
      "cell_type": "markdown",
      "metadata": {
        "id": "BY-NIjS8S3_W"
      },
      "source": [
        "#### Task 3, Part C _(10 marks)_"
      ]
    },
    {
      "cell_type": "markdown",
      "metadata": {
        "id": "476_oZTFS3_X"
      },
      "source": [
        "##### Instructions\n",
        "Before commencing this part of the task, ensure that you have completed Part B and copied your solution into the code cell below where indicated.\n",
        "\n",
        "At this point, the program prevents a transfer occurring if there aren't enough funds in the \"from\" account. However, simply crashing a program isn't a very nice user experience. You are to modify your program so that it handles the `ValueError` and displays \"<< Error transferring funds >>\" to the user. The program should otherwise continue as normal, with the user being asked whether they would like to perform another transaction. Recall from Part B that a failed transaction should not result in either account balance changing.\n",
        "\n",
        "_Hint: A little rusty at exception handling? Take a look at the relevant notebook for examples._"
      ]
    },
    {
      "cell_type": "markdown",
      "metadata": {
        "id": "Bz6zPBDEUi57"
      },
      "source": [
        "##### Requirements\n",
        "To achieve full marks for this task, you must follow the instructions above when writing your solution. Additionally, your solution must adhere to the following requirements:\n",
        " - You **must** specify the appropriate exception type to handle in the except block - marks will be deducted for failing to do so.\n",
        " - The `transfer_funds` function call **must** be the only thing in your `try` block.\n",
        " - A failed transaction **must not** result in either account balance changing."
      ]
    },
    {
      "cell_type": "markdown",
      "metadata": {
        "id": "xW48xeZlS3_X"
      },
      "source": [
        "##### Example Runs\n",
        "###### Run 1\n",
        "```\n",
        "== Account balances ==\n",
        "  Alice: $100.00\n",
        "  Bob: $100.00\n",
        "Enter transfer amount ($): 95\n",
        "== Account balances ==\n",
        "  Alice: $5.00\n",
        "  Bob: $195.00\n",
        "Perform another transfer? (y/n): y\n",
        "Enter transfer amount ($): 7.50\n",
        "<< Error transferring funds >>\n",
        "== Account balances ==\n",
        "  Alice: $5.00\n",
        "  Bob: $195.00\n",
        "Perform another transfer? (y/n): y\n",
        "Enter transfer amount ($): 4.95\n",
        "== Account balances ==\n",
        "  Alice: $0.05\n",
        "  Bob: $199.95\n",
        "Perform another transfer? (y/n): n\n",
        "```\n",
        "\n",
        "Your code should execute as closely as possible to the example runs above. To check for correctness, ensure that your program gives the same outputs as in the examples, as well as trying it with other inputs."
      ]
    },
    {
      "cell_type": "markdown",
      "metadata": {
        "id": "o78iotVBS3_X"
      },
      "source": [
        "##### Your Solution"
      ]
    },
    {
      "cell_type": "code",
      "execution_count": null,
      "metadata": {
        "id": "FiiUXGIRS3_Y",
        "vscode": {
          "languageId": "python"
        },
        "colab": {
          "base_uri": "https://localhost:8080/"
        },
        "outputId": "08d95692-3b33-44d5-ea30-675eedc290cd"
      },
      "outputs": [
        {
          "name": "stdout",
          "output_type": "stream",
          "text": [
            "== Account balances ==\n",
            "  Alice: $100.00\n",
            "  Bob: $100.00\n",
            "Enter transfer amount ($): 101\n",
            "<< Error transferring funds >>\n",
            "== Account balances ==\n",
            "  Alice: $100.00\n",
            "  Bob: $100.00\n",
            "Perform another transfer? (y/n): n\n"
          ]
        }
      ],
      "source": [
        "# Paste your solution to Task 3 Part B here, then modify it as required\n",
        "class BankAccount:\n",
        "    def __init__(self, name, initial_balance):\n",
        "        self.name = name\n",
        "        self.balance = initial_balance\n",
        "\n",
        "    def deposit(self, amount):\n",
        "        self.balance = self.balance + amount\n",
        "\n",
        "    def withdraw(self, amount):\n",
        "        # Part B: Raise an exception as appropriate\n",
        "        if self.balance < amount:\n",
        "            raise ValueError('Balance would be negative after withdrawal')\n",
        "        self.balance = self.balance - amount\n",
        "\n",
        "def print_balances(account_a, account_b):\n",
        "    print('== Account balances ==')\n",
        "    print(f'  {account_a.name}: ${account_a.balance:.2f}')\n",
        "    print(f'  {account_b.name}: ${account_b.balance:.2f}')\n",
        "\n",
        "# Part A. Write your transfer_funds function here\n",
        "def transfer_funds(amount, from_account, to_account):\n",
        "    from_account.withdraw(amount)\n",
        "    to_account.deposit(amount)\n",
        "\n",
        "account_a = BankAccount('Alice', 100)\n",
        "account_b = BankAccount('Bob', 100)\n",
        "print_balances(account_a, account_b)\n",
        "\n",
        "another_transfer = 'y'\n",
        "while another_transfer == 'y':\n",
        "    amount = float(input('Enter transfer amount ($): '))\n",
        "\n",
        "    # Part C. Print an appropriate message if an exception is encountered\n",
        "    try:\n",
        "        transfer_funds(amount, account_a, account_b)\n",
        "    except (ValueError):\n",
        "        print('<< Error transferring funds >>')\n",
        "\n",
        "    print_balances(account_a, account_b)\n",
        "    another_transfer = input('Perform another transfer? (y/n): ')"
      ]
    },
    {
      "cell_type": "markdown",
      "metadata": {
        "id": "BsmcvemuFUPM"
      },
      "source": [
        "### Task 4 - _(30 marks)_\n",
        "For this task, you are to graph some physical characteristics for three species of penguin using Pandas and Matplotlib. This task has been divided into three parts, so complete the steps in order as usual."
      ]
    },
    {
      "cell_type": "markdown",
      "metadata": {
        "id": "2KGmiXJjZrck"
      },
      "source": [
        "#### Task 4, Part A _(5 marks)_"
      ]
    },
    {
      "cell_type": "markdown",
      "metadata": {
        "id": "KWbBW-t7FUPN"
      },
      "source": [
        "##### Instructions\n",
        "This task uses a dataset containing some physical measurements of three penguin species: Adelie, Chinstrap and Gentoo. You can view the dataset online [by clicking here](https://gist.github.com/anibali/c2abc8cab4a2f7b0a6518d11a67c693c). Run the following code cell to load the dataset into a Pandas dataframe and look at the first few rows. Read through the code before executing it."
      ]
    },
    {
      "cell_type": "code",
      "execution_count": null,
      "metadata": {
        "id": "8oBj9S-BabnJ",
        "vscode": {
          "languageId": "python"
        },
        "colab": {
          "base_uri": "https://localhost:8080/",
          "height": 206
        },
        "outputId": "20eb2ffa-08b1-4673-a3fe-9514fee85500"
      },
      "outputs": [
        {
          "output_type": "execute_result",
          "data": {
            "text/plain": [
              "  species     island  bill_length_mm  bill_depth_mm  flipper_length_mm  \\\n",
              "0  Adelie  Torgersen            39.1           18.7              181.0   \n",
              "1  Adelie  Torgersen            39.5           17.4              186.0   \n",
              "2  Adelie  Torgersen            40.3           18.0              195.0   \n",
              "3  Adelie  Torgersen            36.7           19.3              193.0   \n",
              "4  Adelie  Torgersen            39.3           20.6              190.0   \n",
              "\n",
              "   body_mass_g     sex  \n",
              "0       3750.0    MALE  \n",
              "1       3800.0  FEMALE  \n",
              "2       3250.0  FEMALE  \n",
              "3       3450.0  FEMALE  \n",
              "4       3650.0    MALE  "
            ],
            "text/html": [
              "\n",
              "  <div id=\"df-ec9cf139-e03b-48d7-85b7-305ada6c0a75\">\n",
              "    <div class=\"colab-df-container\">\n",
              "      <div>\n",
              "<style scoped>\n",
              "    .dataframe tbody tr th:only-of-type {\n",
              "        vertical-align: middle;\n",
              "    }\n",
              "\n",
              "    .dataframe tbody tr th {\n",
              "        vertical-align: top;\n",
              "    }\n",
              "\n",
              "    .dataframe thead th {\n",
              "        text-align: right;\n",
              "    }\n",
              "</style>\n",
              "<table border=\"1\" class=\"dataframe\">\n",
              "  <thead>\n",
              "    <tr style=\"text-align: right;\">\n",
              "      <th></th>\n",
              "      <th>species</th>\n",
              "      <th>island</th>\n",
              "      <th>bill_length_mm</th>\n",
              "      <th>bill_depth_mm</th>\n",
              "      <th>flipper_length_mm</th>\n",
              "      <th>body_mass_g</th>\n",
              "      <th>sex</th>\n",
              "    </tr>\n",
              "  </thead>\n",
              "  <tbody>\n",
              "    <tr>\n",
              "      <th>0</th>\n",
              "      <td>Adelie</td>\n",
              "      <td>Torgersen</td>\n",
              "      <td>39.1</td>\n",
              "      <td>18.7</td>\n",
              "      <td>181.0</td>\n",
              "      <td>3750.0</td>\n",
              "      <td>MALE</td>\n",
              "    </tr>\n",
              "    <tr>\n",
              "      <th>1</th>\n",
              "      <td>Adelie</td>\n",
              "      <td>Torgersen</td>\n",
              "      <td>39.5</td>\n",
              "      <td>17.4</td>\n",
              "      <td>186.0</td>\n",
              "      <td>3800.0</td>\n",
              "      <td>FEMALE</td>\n",
              "    </tr>\n",
              "    <tr>\n",
              "      <th>2</th>\n",
              "      <td>Adelie</td>\n",
              "      <td>Torgersen</td>\n",
              "      <td>40.3</td>\n",
              "      <td>18.0</td>\n",
              "      <td>195.0</td>\n",
              "      <td>3250.0</td>\n",
              "      <td>FEMALE</td>\n",
              "    </tr>\n",
              "    <tr>\n",
              "      <th>3</th>\n",
              "      <td>Adelie</td>\n",
              "      <td>Torgersen</td>\n",
              "      <td>36.7</td>\n",
              "      <td>19.3</td>\n",
              "      <td>193.0</td>\n",
              "      <td>3450.0</td>\n",
              "      <td>FEMALE</td>\n",
              "    </tr>\n",
              "    <tr>\n",
              "      <th>4</th>\n",
              "      <td>Adelie</td>\n",
              "      <td>Torgersen</td>\n",
              "      <td>39.3</td>\n",
              "      <td>20.6</td>\n",
              "      <td>190.0</td>\n",
              "      <td>3650.0</td>\n",
              "      <td>MALE</td>\n",
              "    </tr>\n",
              "  </tbody>\n",
              "</table>\n",
              "</div>\n",
              "      <button class=\"colab-df-convert\" onclick=\"convertToInteractive('df-ec9cf139-e03b-48d7-85b7-305ada6c0a75')\"\n",
              "              title=\"Convert this dataframe to an interactive table.\"\n",
              "              style=\"display:none;\">\n",
              "        \n",
              "  <svg xmlns=\"http://www.w3.org/2000/svg\" height=\"24px\"viewBox=\"0 0 24 24\"\n",
              "       width=\"24px\">\n",
              "    <path d=\"M0 0h24v24H0V0z\" fill=\"none\"/>\n",
              "    <path d=\"M18.56 5.44l.94 2.06.94-2.06 2.06-.94-2.06-.94-.94-2.06-.94 2.06-2.06.94zm-11 1L8.5 8.5l.94-2.06 2.06-.94-2.06-.94L8.5 2.5l-.94 2.06-2.06.94zm10 10l.94 2.06.94-2.06 2.06-.94-2.06-.94-.94-2.06-.94 2.06-2.06.94z\"/><path d=\"M17.41 7.96l-1.37-1.37c-.4-.4-.92-.59-1.43-.59-.52 0-1.04.2-1.43.59L10.3 9.45l-7.72 7.72c-.78.78-.78 2.05 0 2.83L4 21.41c.39.39.9.59 1.41.59.51 0 1.02-.2 1.41-.59l7.78-7.78 2.81-2.81c.8-.78.8-2.07 0-2.86zM5.41 20L4 18.59l7.72-7.72 1.47 1.35L5.41 20z\"/>\n",
              "  </svg>\n",
              "      </button>\n",
              "      \n",
              "  <style>\n",
              "    .colab-df-container {\n",
              "      display:flex;\n",
              "      flex-wrap:wrap;\n",
              "      gap: 12px;\n",
              "    }\n",
              "\n",
              "    .colab-df-convert {\n",
              "      background-color: #E8F0FE;\n",
              "      border: none;\n",
              "      border-radius: 50%;\n",
              "      cursor: pointer;\n",
              "      display: none;\n",
              "      fill: #1967D2;\n",
              "      height: 32px;\n",
              "      padding: 0 0 0 0;\n",
              "      width: 32px;\n",
              "    }\n",
              "\n",
              "    .colab-df-convert:hover {\n",
              "      background-color: #E2EBFA;\n",
              "      box-shadow: 0px 1px 2px rgba(60, 64, 67, 0.3), 0px 1px 3px 1px rgba(60, 64, 67, 0.15);\n",
              "      fill: #174EA6;\n",
              "    }\n",
              "\n",
              "    [theme=dark] .colab-df-convert {\n",
              "      background-color: #3B4455;\n",
              "      fill: #D2E3FC;\n",
              "    }\n",
              "\n",
              "    [theme=dark] .colab-df-convert:hover {\n",
              "      background-color: #434B5C;\n",
              "      box-shadow: 0px 1px 3px 1px rgba(0, 0, 0, 0.15);\n",
              "      filter: drop-shadow(0px 1px 2px rgba(0, 0, 0, 0.3));\n",
              "      fill: #FFFFFF;\n",
              "    }\n",
              "  </style>\n",
              "\n",
              "      <script>\n",
              "        const buttonEl =\n",
              "          document.querySelector('#df-ec9cf139-e03b-48d7-85b7-305ada6c0a75 button.colab-df-convert');\n",
              "        buttonEl.style.display =\n",
              "          google.colab.kernel.accessAllowed ? 'block' : 'none';\n",
              "\n",
              "        async function convertToInteractive(key) {\n",
              "          const element = document.querySelector('#df-ec9cf139-e03b-48d7-85b7-305ada6c0a75');\n",
              "          const dataTable =\n",
              "            await google.colab.kernel.invokeFunction('convertToInteractive',\n",
              "                                                     [key], {});\n",
              "          if (!dataTable) return;\n",
              "\n",
              "          const docLinkHtml = 'Like what you see? Visit the ' +\n",
              "            '<a target=\"_blank\" href=https://colab.research.google.com/notebooks/data_table.ipynb>data table notebook</a>'\n",
              "            + ' to learn more about interactive tables.';\n",
              "          element.innerHTML = '';\n",
              "          dataTable['output_type'] = 'display_data';\n",
              "          await google.colab.output.renderOutput(dataTable, element);\n",
              "          const docLink = document.createElement('div');\n",
              "          docLink.innerHTML = docLinkHtml;\n",
              "          element.appendChild(docLink);\n",
              "        }\n",
              "      </script>\n",
              "    </div>\n",
              "  </div>\n",
              "  "
            ]
          },
          "metadata": {},
          "execution_count": 6
        }
      ],
      "source": [
        "import pandas as pd\n",
        "import matplotlib.pyplot as plt\n",
        "\n",
        "URL = 'https://gist.githubusercontent.com/anibali/c2abc8cab4a2f7b0a6518d11a67c693c/raw/3b1bb5264736bb762584104c9e7a828bef0f6ec8/penguins.csv'\n",
        "df = pd.read_csv(URL)\n",
        "\n",
        "df.head()"
      ]
    },
    {
      "cell_type": "markdown",
      "metadata": {
        "id": "mduESzxlaziA"
      },
      "source": [
        "As you can see, the dataset consists of 7 columns. To get an idea of how these values differ between species, in the next cell you are to print out the mean value of each column, when grouped by \"species\" - this only takes a single line of code.\n",
        "\n",
        "This should produce a table which contains the mean value of each numerical column for each of the three species. There is no need to include a print statement---Google Colab will automatically display the result (like an interactive interpreter session does). Take note of how the mean values vary between species; we'll visualise it in Part B.\n",
        "\n",
        "_Hint: You can refer to the relevant workbook for an example of per-group aggregation._"
      ]
    },
    {
      "cell_type": "markdown",
      "metadata": {
        "id": "GMCWmYtGUjsh"
      },
      "source": [
        "##### Requirements\n",
        "To achieve full marks for this task, you must follow the instructions above when writing your solution. Additionally, your solution must adhere to the following requirements:\n",
        " - You **must** use Pandas aggregation on the `df` object.\n",
        " - You **must** present your solution as a single line of code."
      ]
    },
    {
      "cell_type": "markdown",
      "metadata": {
        "id": "MIUCTrUEFUPO"
      },
      "source": [
        "##### Your Solution"
      ]
    },
    {
      "cell_type": "code",
      "execution_count": null,
      "metadata": {
        "id": "JZo6J9kCFUPO",
        "vscode": {
          "languageId": "python"
        },
        "colab": {
          "base_uri": "https://localhost:8080/",
          "height": 175
        },
        "outputId": "dce1fd8b-cdb6-4773-866f-c36dc5d776f9"
      },
      "outputs": [
        {
          "output_type": "execute_result",
          "data": {
            "text/plain": [
              "           bill_length_mm  bill_depth_mm  flipper_length_mm  body_mass_g\n",
              "species                                                                 \n",
              "Adelie          38.823973      18.347260         190.102740  3706.164384\n",
              "Chinstrap       48.833824      18.420588         195.823529  3733.088235\n",
              "Gentoo          47.568067      14.996639         217.235294  5092.436975"
            ],
            "text/html": [
              "\n",
              "  <div id=\"df-cd5e9680-59df-4460-b4f4-8d6885014938\">\n",
              "    <div class=\"colab-df-container\">\n",
              "      <div>\n",
              "<style scoped>\n",
              "    .dataframe tbody tr th:only-of-type {\n",
              "        vertical-align: middle;\n",
              "    }\n",
              "\n",
              "    .dataframe tbody tr th {\n",
              "        vertical-align: top;\n",
              "    }\n",
              "\n",
              "    .dataframe thead th {\n",
              "        text-align: right;\n",
              "    }\n",
              "</style>\n",
              "<table border=\"1\" class=\"dataframe\">\n",
              "  <thead>\n",
              "    <tr style=\"text-align: right;\">\n",
              "      <th></th>\n",
              "      <th>bill_length_mm</th>\n",
              "      <th>bill_depth_mm</th>\n",
              "      <th>flipper_length_mm</th>\n",
              "      <th>body_mass_g</th>\n",
              "    </tr>\n",
              "    <tr>\n",
              "      <th>species</th>\n",
              "      <th></th>\n",
              "      <th></th>\n",
              "      <th></th>\n",
              "      <th></th>\n",
              "    </tr>\n",
              "  </thead>\n",
              "  <tbody>\n",
              "    <tr>\n",
              "      <th>Adelie</th>\n",
              "      <td>38.823973</td>\n",
              "      <td>18.347260</td>\n",
              "      <td>190.102740</td>\n",
              "      <td>3706.164384</td>\n",
              "    </tr>\n",
              "    <tr>\n",
              "      <th>Chinstrap</th>\n",
              "      <td>48.833824</td>\n",
              "      <td>18.420588</td>\n",
              "      <td>195.823529</td>\n",
              "      <td>3733.088235</td>\n",
              "    </tr>\n",
              "    <tr>\n",
              "      <th>Gentoo</th>\n",
              "      <td>47.568067</td>\n",
              "      <td>14.996639</td>\n",
              "      <td>217.235294</td>\n",
              "      <td>5092.436975</td>\n",
              "    </tr>\n",
              "  </tbody>\n",
              "</table>\n",
              "</div>\n",
              "      <button class=\"colab-df-convert\" onclick=\"convertToInteractive('df-cd5e9680-59df-4460-b4f4-8d6885014938')\"\n",
              "              title=\"Convert this dataframe to an interactive table.\"\n",
              "              style=\"display:none;\">\n",
              "        \n",
              "  <svg xmlns=\"http://www.w3.org/2000/svg\" height=\"24px\"viewBox=\"0 0 24 24\"\n",
              "       width=\"24px\">\n",
              "    <path d=\"M0 0h24v24H0V0z\" fill=\"none\"/>\n",
              "    <path d=\"M18.56 5.44l.94 2.06.94-2.06 2.06-.94-2.06-.94-.94-2.06-.94 2.06-2.06.94zm-11 1L8.5 8.5l.94-2.06 2.06-.94-2.06-.94L8.5 2.5l-.94 2.06-2.06.94zm10 10l.94 2.06.94-2.06 2.06-.94-2.06-.94-.94-2.06-.94 2.06-2.06.94z\"/><path d=\"M17.41 7.96l-1.37-1.37c-.4-.4-.92-.59-1.43-.59-.52 0-1.04.2-1.43.59L10.3 9.45l-7.72 7.72c-.78.78-.78 2.05 0 2.83L4 21.41c.39.39.9.59 1.41.59.51 0 1.02-.2 1.41-.59l7.78-7.78 2.81-2.81c.8-.78.8-2.07 0-2.86zM5.41 20L4 18.59l7.72-7.72 1.47 1.35L5.41 20z\"/>\n",
              "  </svg>\n",
              "      </button>\n",
              "      \n",
              "  <style>\n",
              "    .colab-df-container {\n",
              "      display:flex;\n",
              "      flex-wrap:wrap;\n",
              "      gap: 12px;\n",
              "    }\n",
              "\n",
              "    .colab-df-convert {\n",
              "      background-color: #E8F0FE;\n",
              "      border: none;\n",
              "      border-radius: 50%;\n",
              "      cursor: pointer;\n",
              "      display: none;\n",
              "      fill: #1967D2;\n",
              "      height: 32px;\n",
              "      padding: 0 0 0 0;\n",
              "      width: 32px;\n",
              "    }\n",
              "\n",
              "    .colab-df-convert:hover {\n",
              "      background-color: #E2EBFA;\n",
              "      box-shadow: 0px 1px 2px rgba(60, 64, 67, 0.3), 0px 1px 3px 1px rgba(60, 64, 67, 0.15);\n",
              "      fill: #174EA6;\n",
              "    }\n",
              "\n",
              "    [theme=dark] .colab-df-convert {\n",
              "      background-color: #3B4455;\n",
              "      fill: #D2E3FC;\n",
              "    }\n",
              "\n",
              "    [theme=dark] .colab-df-convert:hover {\n",
              "      background-color: #434B5C;\n",
              "      box-shadow: 0px 1px 3px 1px rgba(0, 0, 0, 0.15);\n",
              "      filter: drop-shadow(0px 1px 2px rgba(0, 0, 0, 0.3));\n",
              "      fill: #FFFFFF;\n",
              "    }\n",
              "  </style>\n",
              "\n",
              "      <script>\n",
              "        const buttonEl =\n",
              "          document.querySelector('#df-cd5e9680-59df-4460-b4f4-8d6885014938 button.colab-df-convert');\n",
              "        buttonEl.style.display =\n",
              "          google.colab.kernel.accessAllowed ? 'block' : 'none';\n",
              "\n",
              "        async function convertToInteractive(key) {\n",
              "          const element = document.querySelector('#df-cd5e9680-59df-4460-b4f4-8d6885014938');\n",
              "          const dataTable =\n",
              "            await google.colab.kernel.invokeFunction('convertToInteractive',\n",
              "                                                     [key], {});\n",
              "          if (!dataTable) return;\n",
              "\n",
              "          const docLinkHtml = 'Like what you see? Visit the ' +\n",
              "            '<a target=\"_blank\" href=https://colab.research.google.com/notebooks/data_table.ipynb>data table notebook</a>'\n",
              "            + ' to learn more about interactive tables.';\n",
              "          element.innerHTML = '';\n",
              "          dataTable['output_type'] = 'display_data';\n",
              "          await google.colab.output.renderOutput(dataTable, element);\n",
              "          const docLink = document.createElement('div');\n",
              "          docLink.innerHTML = docLinkHtml;\n",
              "          element.appendChild(docLink);\n",
              "        }\n",
              "      </script>\n",
              "    </div>\n",
              "  </div>\n",
              "  "
            ]
          },
          "metadata": {},
          "execution_count": 7
        }
      ],
      "source": [
        "# Write your solution here\n",
        "df.groupby('species').mean()\n",
        "# df.groupby('species')[['bill_length_mm', 'bill_depth_mm', 'flipper_length_mm', 'body_mass_g']].mean()"
      ]
    },
    {
      "cell_type": "markdown",
      "metadata": {
        "id": "xFrCdRnikCs-"
      },
      "source": [
        "#### Task 4, Part B _(15 marks)_"
      ]
    },
    {
      "cell_type": "markdown",
      "metadata": {
        "id": "gDzgpKOSkCtD"
      },
      "source": [
        "##### Instructions\n",
        "Before commencing this part of the task, ensure that you have run the code in Part A which loads the dataframe.\n",
        "\n",
        "For this part, you are to produce a scatter plot which relates penguin mass and bill length. A successful solution should be identical to the example below, which clearly shows how these measurements are a good indicator of penguin species.\n",
        "\n",
        "The image below shows what the plot created by your solution code should look like:\n",
        "\n",
        "![image.png](data:image/png;base64,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)\n",
        "\n",
        "_Hint: Every step in this task has a corresponding example in the workbook._"
      ]
    },
    {
      "cell_type": "markdown",
      "metadata": {
        "id": "YnYH0tWlUjZp"
      },
      "source": [
        "##### Requirements\n",
        "To achieve full marks for this task, you must follow the instructions above when writing your solution. Additionally, your solution must adhere to the following requirements:\n",
        " -  You **must** create a different dataframe for each species by _filtering_ the data appropriately (hint: you should end up with three new dataframes).\n",
        " - You **must** plot each of these dataframes in the same graph, giving each data series an appropriate label.\n",
        " - You **must** give the plot a title, axis labels, and a legend."
      ]
    },
    {
      "cell_type": "markdown",
      "metadata": {
        "id": "g1tNtxQqkCtF"
      },
      "source": [
        "##### Your Solution"
      ]
    },
    {
      "cell_type": "code",
      "execution_count": null,
      "metadata": {
        "id": "w__58pCPkCtF",
        "vscode": {
          "languageId": "python"
        },
        "colab": {
          "base_uri": "https://localhost:8080/",
          "height": 472
        },
        "outputId": "3f5f8cc8-c956-4475-df61-016c43e9637c"
      },
      "outputs": [
        {
          "output_type": "display_data",
          "data": {
            "text/plain": [
              "<Figure size 640x480 with 1 Axes>"
            ],
            "image/png": "[encoded data removed]"
          },
          "metadata": {}
        }
      ],
      "source": [
        "# Write your solution here\n",
        "df_adelie = df[df['species'] == 'Adelie']\n",
        "df_chinstrap = df[df['species'] == 'Chinstrap']\n",
        "df_gentoo = df[df['species'] == 'Gentoo']\n",
        "\n",
        "fig, ax = plt.subplots()\n",
        "ax.scatter(df_adelie['body_mass_g'], df_adelie['bill_length_mm'], color='blue', label='Adelie')\n",
        "ax.scatter(df_chinstrap['body_mass_g'], df_chinstrap['bill_length_mm'], color='orange', label='Chinstrap')\n",
        "ax.scatter(df_gentoo['body_mass_g'], df_gentoo['bill_length_mm'], color='green', label='Gentoo')\n",
        "ax.set_title('Penguin Measurements by Species')\n",
        "ax.set_xlabel('Body mass (g)')\n",
        "ax.set_ylabel('Bill length (mm)')\n",
        "ax.legend()\n",
        "plt.show()"
      ]
    },
    {
      "cell_type": "markdown",
      "metadata": {
        "id": "b1XvdD60Z5Z-"
      },
      "source": [
        "#### Task 4, Part C _(10 marks)_"
      ]
    },
    {
      "cell_type": "markdown",
      "metadata": {
        "id": "Y7VUf13kZ5Z-"
      },
      "source": [
        "##### Instructions\n",
        "The graph from Part B shows a nice separation between the species when plotting penguin weight and bill length. To improve upon this, you are to add another column to the dataset, and plot this instead of the penguin bill length.\n",
        "\n",
        "In the next cell, write code which adds another column to the dataframe `df` called `bill_proportion`, which is the penguins' bill length divided by their bill depth. This new column represents the ratio between bill length and depth, and serves as an indicator of bill shape.\n",
        "\n",
        "Copy and paste your code from Part B into the below cell, and add the new column - you can call `df.head()` to check. Then, update your graphing code to use this new column; don't forget to update the labels and title! A successful solution should be identical to the example below, which does an even better job of separating penguin species than Part B.\n",
        "\n",
        "![image.png](data:image/png;base64,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)\n",
        "\n",
        "_Although beyond the scope of this subject, we would now be able to guess a penguin's species using just their weight and bill proportion, by plotting it on this graph and seeing which other points it lands near!_"
      ]
    },
    {
      "cell_type": "markdown",
      "metadata": {
        "id": "vaTNnGizUkMZ"
      },
      "source": [
        "##### Requirements\n",
        "To achieve full marks for this task, you must follow the instructions above when writing your solution. Additionally, your solution must adhere to the following requirements:\n",
        " - The new column **must** be created using Pandas.\n",
        "\n",
        "As your solution is based upon your code from Part B, the same requirements apply:\n",
        " -  You **must** create a different dataframe for each species by _filtering_ the data appropriately (hint: you should end up with three new dataframes).\n",
        " - You **must** plot each of these dataframes in the same graph, giving each data series an appropriate label.\n",
        " - You **must** give the plot a title, axis labels, and a legend."
      ]
    },
    {
      "cell_type": "markdown",
      "metadata": {
        "id": "mxB8GUp9Z5Z_"
      },
      "source": [
        "##### Your Solution"
      ]
    },
    {
      "cell_type": "code",
      "execution_count": null,
      "metadata": {
        "id": "yVftqZjDZ5Z_",
        "vscode": {
          "languageId": "python"
        },
        "colab": {
          "base_uri": "https://localhost:8080/",
          "height": 472
        },
        "outputId": "fd19bb03-e5c9-4216-ea89-8683636ccf09"
      },
      "outputs": [
        {
          "output_type": "display_data",
          "data": {
            "text/plain": [
              "<Figure size 640x480 with 1 Axes>"
            ],
            "image/png": "[encoded data removed]"
          },
          "metadata": {}
        }
      ],
      "source": [
        "# Paste and modify the code from Part B\n",
        "df['bill_proportion'] = df['bill_length_mm'] / df['bill_depth_mm']\n",
        "\n",
        "df_adelie = df[df['species'] == 'Adelie']\n",
        "df_chinstrap = df[df['species'] == 'Chinstrap']\n",
        "df_gentoo = df[df['species'] == 'Gentoo']\n",
        "\n",
        "fig, ax = plt.subplots()\n",
        "ax.scatter(df_adelie['body_mass_g'], df_adelie['bill_proportion'], color='blue', label='Adelie')\n",
        "ax.scatter(df_chinstrap['body_mass_g'], df_chinstrap['bill_proportion'], color='orange', label='Chinstrap')\n",
        "ax.scatter(df_gentoo['body_mass_g'], df_gentoo['bill_proportion'], color='green', label='Gentoo')\n",
        "ax.set_title('Penguin Proportions by Species')\n",
        "ax.set_xlabel('Body mass (g)')\n",
        "ax.set_ylabel('Bill proportion (length/depth)')\n",
        "ax.legend()\n",
        "plt.show()"
      ]
    }
  ],
  "metadata": {
    "colab": {
      "provenance": []
    },
    "kernelspec": {
      "display_name": "Python 3",
      "name": "python3"
    }
  },
  "nbformat": 4,
  "nbformat_minor": 0
}